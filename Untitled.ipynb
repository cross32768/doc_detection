{
 "cells": [
  {
   "cell_type": "code",
   "execution_count": 2,
   "metadata": {},
   "outputs": [],
   "source": [
    "import numpy as np\n",
    "import matplotlib.pyplot as plt\n",
    "import pandas as pd\n",
    "import os\n",
    "from PIL import Image\n",
    "from skimage import io"
   ]
  },
  {
   "cell_type": "code",
   "execution_count": 3,
   "metadata": {},
   "outputs": [],
   "source": [
    "root_data_dir = '../../data/200003076/'\n",
    "annotation_data = pd.read_csv(root_data_dir + '200003076_coordinate.csv')"
   ]
  },
  {
   "cell_type": "code",
   "execution_count": 6,
   "metadata": {},
   "outputs": [],
   "source": [
    "image_dir = root_data_dir + 'images_resized_512/'\n",
    "label_dir = root_data_dir + 'labels_resized_512/one_x1.0/'"
   ]
  },
  {
   "cell_type": "code",
   "execution_count": 7,
   "metadata": {},
   "outputs": [],
   "source": [
    "output_image_dir = root_data_dir + 'images_resized_512_purified/'\n",
    "output_label_dir = root_data_dir + 'labels_resized_512/one_x1.0_purified/'"
   ]
  },
  {
   "cell_type": "code",
   "execution_count": 8,
   "metadata": {},
   "outputs": [],
   "source": [
    "if not os.path.exists(output_image_dir):\n",
    "    os.mkdir(output_image_dir)\n",
    "if not os.path.exists(output_label_dir):\n",
    "    os.mkdir(output_label_dir)"
   ]
  },
  {
   "cell_type": "code",
   "execution_count": 13,
   "metadata": {},
   "outputs": [],
   "source": [
    "imagenames = os.listdir(image_dir)"
   ]
  },
  {
   "cell_type": "code",
   "execution_count": 14,
   "metadata": {},
   "outputs": [],
   "source": [
    "for imagename in imagenames:\n",
    "    i_name, _ = imagename.split('.')\n",
    "    annotation_csv_for_image = annotation_data[annotation_data.Image == i_name]\n",
    "    if not (len(annotation_csv_for_image) == 0):\n",
    "        image = Image.open(image_dir + imagename)\n",
    "        label = Image.open(label_dir + imagename)\n",
    "        image.save(output_image_dir + imagename)\n",
    "        label.save(output_label_dir + imagename)"
   ]
  },
  {
   "cell_type": "code",
   "execution_count": 17,
   "metadata": {},
   "outputs": [
    {
     "data": {
      "text/plain": [
       "282"
      ]
     },
     "execution_count": 17,
     "metadata": {},
     "output_type": "execute_result"
    }
   ],
   "source": [
    "len(os.listdir(output_image_dir))"
   ]
  },
  {
   "cell_type": "code",
   "execution_count": null,
   "metadata": {},
   "outputs": [],
   "source": []
  }
 ],
 "metadata": {
  "kernelspec": {
   "display_name": "Python 3",
   "language": "python",
   "name": "python3"
  },
  "language_info": {
   "codemirror_mode": {
    "name": "ipython",
    "version": 3
   },
   "file_extension": ".py",
   "mimetype": "text/x-python",
   "name": "python",
   "nbconvert_exporter": "python",
   "pygments_lexer": "ipython3",
   "version": "3.5.2"
  }
 },
 "nbformat": 4,
 "nbformat_minor": 2
}
