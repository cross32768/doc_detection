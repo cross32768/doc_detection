{
 "cells": [
  {
   "cell_type": "code",
   "execution_count": 22,
   "metadata": {},
   "outputs": [],
   "source": [
    "import numpy as np\n",
    "import pandas as pd\n",
    "import os\n",
    "from skimage import io"
   ]
  },
  {
   "cell_type": "code",
   "execution_count": 23,
   "metadata": {},
   "outputs": [],
   "source": [
    "root_dir = '../../data/komonjo_experiment/200003076/'\n",
    "image_dir = root_dir + 'training_data/images_resized_quarter/'\n",
    "annotation_data_path = '../../data/200003076/200003076_coordinate.csv'\n",
    "annotation_data = pd.read_csv(annotation_data_path)\n",
    "output_dir = root_dir + 'training_data/one_hot_xw0.8_h0.5_resized_quarter/'"
   ]
  },
  {
   "cell_type": "code",
   "execution_count": 24,
   "metadata": {},
   "outputs": [],
   "source": [
    "def get_utf16_hex_and_bounding_box_list_from_csv(image_name, annotation_csv):\n",
    "    image_name, _ = image_name.split('.')\n",
    "    annotation_data_for_the_image = annotation_csv[annotation_csv.Image == image_name]\n",
    "    utf16_hex_and_bounding_box_list = annotation_data_for_the_image[['Unicode', \n",
    "                                                                   'X', 'Y', 'Width', 'Height']].values.tolist()\n",
    "    return utf16_hex_and_bounding_box_list"
   ]
  },
  {
   "cell_type": "code",
   "execution_count": 25,
   "metadata": {},
   "outputs": [],
   "source": [
    "# if unicode means hiragana return 1 else if kanji return 2\n",
    "def get_channel_index_from_utf16_hex(char_utf16_hex):\n",
    "    min_hiragana_int = int('3041', 16) # ぁ\n",
    "    max_hiragana_int = int('309D', 16) # ゝ\n",
    "    \n",
    "    char_int = int(char_utf16_hex[2:], 16)\n",
    "    \n",
    "    if min_hiragana_int <= char_int and char_int <= max_hiragana_int:\n",
    "        return 1\n",
    "    else:\n",
    "        return 2"
   ]
  },
  {
   "cell_type": "code",
   "execution_count": 26,
   "metadata": {},
   "outputs": [],
   "source": [
    "def revise_bounding_box_by_coefficient(X, Y, Width, Height, λ_Width, λ_Height):\n",
    "    X = round(X/4)\n",
    "    Y = round(Y/4)\n",
    "    Width = round(Width/4)\n",
    "    Height = round(Height/4)\n",
    "    shrink_rate_Width = 1.0-λ_Width\n",
    "    shrink_rate_Height = 1.0 - λ_Height\n",
    "    shrink_Width = shrink_rate_Width * Width\n",
    "    shrink_Height = shrink_rate_Height * Height\n",
    "        \n",
    "    X = round(X + 0.5*shrink_Width)\n",
    "    Y = round(Y + 0.5*shrink_Height)\n",
    "    Width = round(Width - shrink_Width)\n",
    "    Height = round(Height - shrink_Height)\n",
    "    return X, Y, Width, Height"
   ]
  },
  {
   "cell_type": "code",
   "execution_count": 27,
   "metadata": {},
   "outputs": [],
   "source": [
    "def make_one_hot_label_for_a_page(image_dir, image_name, annotation_csv, λ_Width=1.0, λ_Height=1.0):\n",
    "    image_size = io.imread(image_dir + image_name).shape\n",
    "    one_hot_label_np = np.zeros((image_size[0], image_size[1], 3))\n",
    "    utf16_hex_and_bounding_box_list = get_utf16_hex_and_bounding_box_list_from_csv(image_name, annotation_csv)\n",
    "    \n",
    "    for utf16_hex, X, Y, Width, Height in utf16_hex_and_bounding_box_list:\n",
    "        Channel = get_channel_index_from_utf16_hex(utf16_hex)\n",
    "        X, Y, Width, Height = revise_bounding_box_by_coefficient(X, Y, Width, Height, λ_Width, λ_Height)\n",
    "        one_hot_label_np[Y:Y+Height, X:X+Width, Channel] = 1\n",
    "    \n",
    "    return (one_hot_label_np*255).astype(np.uint8)"
   ]
  },
  {
   "cell_type": "code",
   "execution_count": 28,
   "metadata": {},
   "outputs": [
    {
     "name": "stderr",
     "output_type": "stream",
     "text": [
      "/home/kaito/.local/lib/python3.5/site-packages/skimage/io/_io.py:140: UserWarning: ../../data/komonjo_experiment/200003076/training_data/one_hot_xw0.8_h0.5_resized_quarter/200003076_00082_2.png is a low contrast image\n",
      "  warn('%s is a low contrast image' % fname)\n",
      "/home/kaito/.local/lib/python3.5/site-packages/skimage/io/_io.py:140: UserWarning: ../../data/komonjo_experiment/200003076/training_data/one_hot_xw0.8_h0.5_resized_quarter/200003076_00057_2.png is a low contrast image\n",
      "  warn('%s is a low contrast image' % fname)\n",
      "/home/kaito/.local/lib/python3.5/site-packages/skimage/io/_io.py:140: UserWarning: ../../data/komonjo_experiment/200003076/training_data/one_hot_xw0.8_h0.5_resized_quarter/200003076_00133_2.png is a low contrast image\n",
      "  warn('%s is a low contrast image' % fname)\n",
      "/home/kaito/.local/lib/python3.5/site-packages/skimage/io/_io.py:140: UserWarning: ../../data/komonjo_experiment/200003076/training_data/one_hot_xw0.8_h0.5_resized_quarter/200003076_00177_2.png is a low contrast image\n",
      "  warn('%s is a low contrast image' % fname)\n",
      "/home/kaito/.local/lib/python3.5/site-packages/skimage/io/_io.py:140: UserWarning: ../../data/komonjo_experiment/200003076/training_data/one_hot_xw0.8_h0.5_resized_quarter/200003076_00079_2.png is a low contrast image\n",
      "  warn('%s is a low contrast image' % fname)\n",
      "/home/kaito/.local/lib/python3.5/site-packages/skimage/io/_io.py:140: UserWarning: ../../data/komonjo_experiment/200003076/training_data/one_hot_xw0.8_h0.5_resized_quarter/200003076_00108_2.png is a low contrast image\n",
      "  warn('%s is a low contrast image' % fname)\n",
      "/home/kaito/.local/lib/python3.5/site-packages/skimage/io/_io.py:140: UserWarning: ../../data/komonjo_experiment/200003076/training_data/one_hot_xw0.8_h0.5_resized_quarter/200003076_00066_2.png is a low contrast image\n",
      "  warn('%s is a low contrast image' % fname)\n",
      "/home/kaito/.local/lib/python3.5/site-packages/skimage/io/_io.py:140: UserWarning: ../../data/komonjo_experiment/200003076/training_data/one_hot_xw0.8_h0.5_resized_quarter/200003076_00127_2.png is a low contrast image\n",
      "  warn('%s is a low contrast image' % fname)\n",
      "/home/kaito/.local/lib/python3.5/site-packages/skimage/io/_io.py:140: UserWarning: ../../data/komonjo_experiment/200003076/training_data/one_hot_xw0.8_h0.5_resized_quarter/200003076_00093_1.png is a low contrast image\n",
      "  warn('%s is a low contrast image' % fname)\n",
      "/home/kaito/.local/lib/python3.5/site-packages/skimage/io/_io.py:140: UserWarning: ../../data/komonjo_experiment/200003076/training_data/one_hot_xw0.8_h0.5_resized_quarter/200003076_00168_2.png is a low contrast image\n",
      "  warn('%s is a low contrast image' % fname)\n",
      "/home/kaito/.local/lib/python3.5/site-packages/skimage/io/_io.py:140: UserWarning: ../../data/komonjo_experiment/200003076/training_data/one_hot_xw0.8_h0.5_resized_quarter/200003076_00136_2.png is a low contrast image\n",
      "  warn('%s is a low contrast image' % fname)\n",
      "/home/kaito/.local/lib/python3.5/site-packages/skimage/io/_io.py:140: UserWarning: ../../data/komonjo_experiment/200003076/training_data/one_hot_xw0.8_h0.5_resized_quarter/200003076_00029_2.png is a low contrast image\n",
      "  warn('%s is a low contrast image' % fname)\n",
      "/home/kaito/.local/lib/python3.5/site-packages/skimage/io/_io.py:140: UserWarning: ../../data/komonjo_experiment/200003076/training_data/one_hot_xw0.8_h0.5_resized_quarter/200003076_00121_2.png is a low contrast image\n",
      "  warn('%s is a low contrast image' % fname)\n",
      "/home/kaito/.local/lib/python3.5/site-packages/skimage/io/_io.py:140: UserWarning: ../../data/komonjo_experiment/200003076/training_data/one_hot_xw0.8_h0.5_resized_quarter/200003076_00114_2.png is a low contrast image\n",
      "  warn('%s is a low contrast image' % fname)\n",
      "/home/kaito/.local/lib/python3.5/site-packages/skimage/io/_io.py:140: UserWarning: ../../data/komonjo_experiment/200003076/training_data/one_hot_xw0.8_h0.5_resized_quarter/200003076_00140_2.png is a low contrast image\n",
      "  warn('%s is a low contrast image' % fname)\n",
      "/home/kaito/.local/lib/python3.5/site-packages/skimage/io/_io.py:140: UserWarning: ../../data/komonjo_experiment/200003076/training_data/one_hot_xw0.8_h0.5_resized_quarter/200003076_00175_1.png is a low contrast image\n",
      "  warn('%s is a low contrast image' % fname)\n",
      "/home/kaito/.local/lib/python3.5/site-packages/skimage/io/_io.py:140: UserWarning: ../../data/komonjo_experiment/200003076/training_data/one_hot_xw0.8_h0.5_resized_quarter/200003076_00032_2.png is a low contrast image\n",
      "  warn('%s is a low contrast image' % fname)\n",
      "/home/kaito/.local/lib/python3.5/site-packages/skimage/io/_io.py:140: UserWarning: ../../data/komonjo_experiment/200003076/training_data/one_hot_xw0.8_h0.5_resized_quarter/200003076_00149_2.png is a low contrast image\n",
      "  warn('%s is a low contrast image' % fname)\n",
      "/home/kaito/.local/lib/python3.5/site-packages/skimage/io/_io.py:140: UserWarning: ../../data/komonjo_experiment/200003076/training_data/one_hot_xw0.8_h0.5_resized_quarter/200003076_00054_2.png is a low contrast image\n",
      "  warn('%s is a low contrast image' % fname)\n",
      "/home/kaito/.local/lib/python3.5/site-packages/skimage/io/_io.py:140: UserWarning: ../../data/komonjo_experiment/200003076/training_data/one_hot_xw0.8_h0.5_resized_quarter/200003076_00088_2.png is a low contrast image\n",
      "  warn('%s is a low contrast image' % fname)\n",
      "/home/kaito/.local/lib/python3.5/site-packages/skimage/io/_io.py:140: UserWarning: ../../data/komonjo_experiment/200003076/training_data/one_hot_xw0.8_h0.5_resized_quarter/200003076_00159_2.png is a low contrast image\n",
      "  warn('%s is a low contrast image' % fname)\n",
      "/home/kaito/.local/lib/python3.5/site-packages/skimage/io/_io.py:140: UserWarning: ../../data/komonjo_experiment/200003076/training_data/one_hot_xw0.8_h0.5_resized_quarter/200003076_00115_1.png is a low contrast image\n",
      "  warn('%s is a low contrast image' % fname)\n",
      "/home/kaito/.local/lib/python3.5/site-packages/skimage/io/_io.py:140: UserWarning: ../../data/komonjo_experiment/200003076/training_data/one_hot_xw0.8_h0.5_resized_quarter/200003076_00162_2.png is a low contrast image\n",
      "  warn('%s is a low contrast image' % fname)\n",
      "/home/kaito/.local/lib/python3.5/site-packages/skimage/io/_io.py:140: UserWarning: ../../data/komonjo_experiment/200003076/training_data/one_hot_xw0.8_h0.5_resized_quarter/200003076_00070_1.png is a low contrast image\n",
      "  warn('%s is a low contrast image' % fname)\n",
      "/home/kaito/.local/lib/python3.5/site-packages/skimage/io/_io.py:140: UserWarning: ../../data/komonjo_experiment/200003076/training_data/one_hot_xw0.8_h0.5_resized_quarter/200003076_00069_2.png is a low contrast image\n",
      "  warn('%s is a low contrast image' % fname)\n",
      "/home/kaito/.local/lib/python3.5/site-packages/skimage/io/_io.py:140: UserWarning: ../../data/komonjo_experiment/200003076/training_data/one_hot_xw0.8_h0.5_resized_quarter/200003076_00099_2.png is a low contrast image\n",
      "  warn('%s is a low contrast image' % fname)\n",
      "/home/kaito/.local/lib/python3.5/site-packages/skimage/io/_io.py:140: UserWarning: ../../data/komonjo_experiment/200003076/training_data/one_hot_xw0.8_h0.5_resized_quarter/200003076_00165_2.png is a low contrast image\n",
      "  warn('%s is a low contrast image' % fname)\n",
      "/home/kaito/.local/lib/python3.5/site-packages/skimage/io/_io.py:140: UserWarning: ../../data/komonjo_experiment/200003076/training_data/one_hot_xw0.8_h0.5_resized_quarter/200003076_00076_2.png is a low contrast image\n",
      "  warn('%s is a low contrast image' % fname)\n",
      "/home/kaito/.local/lib/python3.5/site-packages/skimage/io/_io.py:140: UserWarning: ../../data/komonjo_experiment/200003076/training_data/one_hot_xw0.8_h0.5_resized_quarter/200003076_00004_1.png is a low contrast image\n",
      "  warn('%s is a low contrast image' % fname)\n",
      "/home/kaito/.local/lib/python3.5/site-packages/skimage/io/_io.py:140: UserWarning: ../../data/komonjo_experiment/200003076/training_data/one_hot_xw0.8_h0.5_resized_quarter/200003076_00019_2.png is a low contrast image\n",
      "  warn('%s is a low contrast image' % fname)\n",
      "/home/kaito/.local/lib/python3.5/site-packages/skimage/io/_io.py:140: UserWarning: ../../data/komonjo_experiment/200003076/training_data/one_hot_xw0.8_h0.5_resized_quarter/200003076_00048_1.png is a low contrast image\n",
      "  warn('%s is a low contrast image' % fname)\n",
      "/home/kaito/.local/lib/python3.5/site-packages/skimage/io/_io.py:140: UserWarning: ../../data/komonjo_experiment/200003076/training_data/one_hot_xw0.8_h0.5_resized_quarter/200003076_00070_2.png is a low contrast image\n",
      "  warn('%s is a low contrast image' % fname)\n"
     ]
    },
    {
     "name": "stderr",
     "output_type": "stream",
     "text": [
      "/home/kaito/.local/lib/python3.5/site-packages/skimage/io/_io.py:140: UserWarning: ../../data/komonjo_experiment/200003076/training_data/one_hot_xw0.8_h0.5_resized_quarter/200003076_00026_1.png is a low contrast image\n",
      "  warn('%s is a low contrast image' % fname)\n",
      "/home/kaito/.local/lib/python3.5/site-packages/skimage/io/_io.py:140: UserWarning: ../../data/komonjo_experiment/200003076/training_data/one_hot_xw0.8_h0.5_resized_quarter/200003076_00174_2.png is a low contrast image\n",
      "  warn('%s is a low contrast image' % fname)\n",
      "/home/kaito/.local/lib/python3.5/site-packages/skimage/io/_io.py:140: UserWarning: ../../data/komonjo_experiment/200003076/training_data/one_hot_xw0.8_h0.5_resized_quarter/200003076_00025_2.png is a low contrast image\n",
      "  warn('%s is a low contrast image' % fname)\n",
      "/home/kaito/.local/lib/python3.5/site-packages/skimage/io/_io.py:140: UserWarning: ../../data/komonjo_experiment/200003076/training_data/one_hot_xw0.8_h0.5_resized_quarter/200003076_00111_2.png is a low contrast image\n",
      "  warn('%s is a low contrast image' % fname)\n",
      "/home/kaito/.local/lib/python3.5/site-packages/skimage/io/_io.py:140: UserWarning: ../../data/komonjo_experiment/200003076/training_data/one_hot_xw0.8_h0.5_resized_quarter/200003076_00007_2.png is a low contrast image\n",
      "  warn('%s is a low contrast image' % fname)\n",
      "/home/kaito/.local/lib/python3.5/site-packages/skimage/io/_io.py:140: UserWarning: ../../data/komonjo_experiment/200003076/training_data/one_hot_xw0.8_h0.5_resized_quarter/200003076_00171_2.png is a low contrast image\n",
      "  warn('%s is a low contrast image' % fname)\n",
      "/home/kaito/.local/lib/python3.5/site-packages/skimage/io/_io.py:140: UserWarning: ../../data/komonjo_experiment/200003076/training_data/one_hot_xw0.8_h0.5_resized_quarter/200003076_00124_2.png is a low contrast image\n",
      "  warn('%s is a low contrast image' % fname)\n",
      "/home/kaito/.local/lib/python3.5/site-packages/skimage/io/_io.py:140: UserWarning: ../../data/komonjo_experiment/200003076/training_data/one_hot_xw0.8_h0.5_resized_quarter/200003076_00022_2.png is a low contrast image\n",
      "  warn('%s is a low contrast image' % fname)\n",
      "/home/kaito/.local/lib/python3.5/site-packages/skimage/io/_io.py:140: UserWarning: ../../data/komonjo_experiment/200003076/training_data/one_hot_xw0.8_h0.5_resized_quarter/200003076_00105_2.png is a low contrast image\n",
      "  warn('%s is a low contrast image' % fname)\n",
      "/home/kaito/.local/lib/python3.5/site-packages/skimage/io/_io.py:140: UserWarning: ../../data/komonjo_experiment/200003076/training_data/one_hot_xw0.8_h0.5_resized_quarter/200003076_00143_2.png is a low contrast image\n",
      "  warn('%s is a low contrast image' % fname)\n",
      "/home/kaito/.local/lib/python3.5/site-packages/skimage/io/_io.py:140: UserWarning: ../../data/komonjo_experiment/200003076/training_data/one_hot_xw0.8_h0.5_resized_quarter/200003076_00155_2.png is a low contrast image\n",
      "  warn('%s is a low contrast image' % fname)\n",
      "/home/kaito/.local/lib/python3.5/site-packages/skimage/io/_io.py:140: UserWarning: ../../data/komonjo_experiment/200003076/training_data/one_hot_xw0.8_h0.5_resized_quarter/200003076_00051_2.png is a low contrast image\n",
      "  warn('%s is a low contrast image' % fname)\n",
      "/home/kaito/.local/lib/python3.5/site-packages/skimage/io/_io.py:140: UserWarning: ../../data/komonjo_experiment/200003076/training_data/one_hot_xw0.8_h0.5_resized_quarter/200003076_00035_2.png is a low contrast image\n",
      "  warn('%s is a low contrast image' % fname)\n",
      "/home/kaito/.local/lib/python3.5/site-packages/skimage/io/_io.py:140: UserWarning: ../../data/komonjo_experiment/200003076/training_data/one_hot_xw0.8_h0.5_resized_quarter/200003076_00177_1.png is a low contrast image\n",
      "  warn('%s is a low contrast image' % fname)\n",
      "/home/kaito/.local/lib/python3.5/site-packages/skimage/io/_io.py:140: UserWarning: ../../data/komonjo_experiment/200003076/training_data/one_hot_xw0.8_h0.5_resized_quarter/200003076_00085_2.png is a low contrast image\n",
      "  warn('%s is a low contrast image' % fname)\n",
      "/home/kaito/.local/lib/python3.5/site-packages/skimage/io/_io.py:140: UserWarning: ../../data/komonjo_experiment/200003076/training_data/one_hot_xw0.8_h0.5_resized_quarter/200003076_00159_1.png is a low contrast image\n",
      "  warn('%s is a low contrast image' % fname)\n",
      "/home/kaito/.local/lib/python3.5/site-packages/skimage/io/_io.py:140: UserWarning: ../../data/komonjo_experiment/200003076/training_data/one_hot_xw0.8_h0.5_resized_quarter/200003076_00102_2.png is a low contrast image\n",
      "  warn('%s is a low contrast image' % fname)\n",
      "/home/kaito/.local/lib/python3.5/site-packages/skimage/io/_io.py:140: UserWarning: ../../data/komonjo_experiment/200003076/training_data/one_hot_xw0.8_h0.5_resized_quarter/200003076_00041_2.png is a low contrast image\n",
      "  warn('%s is a low contrast image' % fname)\n",
      "/home/kaito/.local/lib/python3.5/site-packages/skimage/io/_io.py:140: UserWarning: ../../data/komonjo_experiment/200003076/training_data/one_hot_xw0.8_h0.5_resized_quarter/200003076_00152_2.png is a low contrast image\n",
      "  warn('%s is a low contrast image' % fname)\n",
      "/home/kaito/.local/lib/python3.5/site-packages/skimage/io/_io.py:140: UserWarning: ../../data/komonjo_experiment/200003076/training_data/one_hot_xw0.8_h0.5_resized_quarter/200003076_00130_2.png is a low contrast image\n",
      "  warn('%s is a low contrast image' % fname)\n",
      "/home/kaito/.local/lib/python3.5/site-packages/skimage/io/_io.py:140: UserWarning: ../../data/komonjo_experiment/200003076/training_data/one_hot_xw0.8_h0.5_resized_quarter/200003076_00096_2.png is a low contrast image\n",
      "  warn('%s is a low contrast image' % fname)\n",
      "/home/kaito/.local/lib/python3.5/site-packages/skimage/io/_io.py:140: UserWarning: ../../data/komonjo_experiment/200003076/training_data/one_hot_xw0.8_h0.5_resized_quarter/200003076_00063_2.png is a low contrast image\n",
      "  warn('%s is a low contrast image' % fname)\n",
      "/home/kaito/.local/lib/python3.5/site-packages/skimage/io/_io.py:140: UserWarning: ../../data/komonjo_experiment/200003076/training_data/one_hot_xw0.8_h0.5_resized_quarter/200003076_00118_2.png is a low contrast image\n",
      "  warn('%s is a low contrast image' % fname)\n",
      "/home/kaito/.local/lib/python3.5/site-packages/skimage/io/_io.py:140: UserWarning: ../../data/komonjo_experiment/200003076/training_data/one_hot_xw0.8_h0.5_resized_quarter/200003076_00060_2.png is a low contrast image\n",
      "  warn('%s is a low contrast image' % fname)\n",
      "/home/kaito/.local/lib/python3.5/site-packages/skimage/io/_io.py:140: UserWarning: ../../data/komonjo_experiment/200003076/training_data/one_hot_xw0.8_h0.5_resized_quarter/200003076_00073_2.png is a low contrast image\n",
      "  warn('%s is a low contrast image' % fname)\n",
      "/home/kaito/.local/lib/python3.5/site-packages/skimage/io/_io.py:140: UserWarning: ../../data/komonjo_experiment/200003076/training_data/one_hot_xw0.8_h0.5_resized_quarter/200003076_00010_2.png is a low contrast image\n",
      "  warn('%s is a low contrast image' % fname)\n",
      "/home/kaito/.local/lib/python3.5/site-packages/skimage/io/_io.py:140: UserWarning: ../../data/komonjo_experiment/200003076/training_data/one_hot_xw0.8_h0.5_resized_quarter/200003076_00016_2.png is a low contrast image\n",
      "  warn('%s is a low contrast image' % fname)\n",
      "/home/kaito/.local/lib/python3.5/site-packages/skimage/io/_io.py:140: UserWarning: ../../data/komonjo_experiment/200003076/training_data/one_hot_xw0.8_h0.5_resized_quarter/200003076_00044_2.png is a low contrast image\n",
      "  warn('%s is a low contrast image' % fname)\n",
      "/home/kaito/.local/lib/python3.5/site-packages/skimage/io/_io.py:140: UserWarning: ../../data/komonjo_experiment/200003076/training_data/one_hot_xw0.8_h0.5_resized_quarter/200003076_00047_2.png is a low contrast image\n",
      "  warn('%s is a low contrast image' % fname)\n",
      "/home/kaito/.local/lib/python3.5/site-packages/skimage/io/_io.py:140: UserWarning: ../../data/komonjo_experiment/200003076/training_data/one_hot_xw0.8_h0.5_resized_quarter/200003076_00092_2.png is a low contrast image\n",
      "  warn('%s is a low contrast image' % fname)\n",
      "/home/kaito/.local/lib/python3.5/site-packages/skimage/io/_io.py:140: UserWarning: ../../data/komonjo_experiment/200003076/training_data/one_hot_xw0.8_h0.5_resized_quarter/200003076_00038_2.png is a low contrast image\n",
      "  warn('%s is a low contrast image' % fname)\n",
      "/home/kaito/.local/lib/python3.5/site-packages/skimage/io/_io.py:140: UserWarning: ../../data/komonjo_experiment/200003076/training_data/one_hot_xw0.8_h0.5_resized_quarter/200003076_00146_2.png is a low contrast image\n",
      "  warn('%s is a low contrast image' % fname)\n"
     ]
    },
    {
     "name": "stderr",
     "output_type": "stream",
     "text": [
      "/home/kaito/.local/lib/python3.5/site-packages/skimage/io/_io.py:140: UserWarning: ../../data/komonjo_experiment/200003076/training_data/one_hot_xw0.8_h0.5_resized_quarter/200003076_00158_2.png is a low contrast image\n",
      "  warn('%s is a low contrast image' % fname)\n",
      "/home/kaito/.local/lib/python3.5/site-packages/skimage/io/_io.py:140: UserWarning: ../../data/komonjo_experiment/200003076/training_data/one_hot_xw0.8_h0.5_resized_quarter/200003076_00137_1.png is a low contrast image\n",
      "  warn('%s is a low contrast image' % fname)\n",
      "/home/kaito/.local/lib/python3.5/site-packages/skimage/io/_io.py:140: UserWarning: ../../data/komonjo_experiment/200003076/training_data/one_hot_xw0.8_h0.5_resized_quarter/200003076_00013_2.png is a low contrast image\n",
      "  warn('%s is a low contrast image' % fname)\n"
     ]
    }
   ],
   "source": [
    "if not os.path.exists(output_dir):\n",
    "    os.mkdir(output_dir)\n",
    "    \n",
    "image_name_list = os.listdir(image_dir)\n",
    "for image_name in image_name_list:\n",
    "    label = make_one_hot_label_for_a_page(image_dir, image_name, annotation_data, 0.8, 0.5)\n",
    "    image_name, _ = image_name.split('.')\n",
    "    io.imsave(output_dir + image_name + '.png', label)"
   ]
  },
  {
   "cell_type": "code",
   "execution_count": null,
   "metadata": {},
   "outputs": [],
   "source": []
  },
  {
   "cell_type": "code",
   "execution_count": null,
   "metadata": {},
   "outputs": [],
   "source": []
  },
  {
   "cell_type": "code",
   "execution_count": 29,
   "metadata": {},
   "outputs": [
    {
     "ename": "NameError",
     "evalue": "name 'nn' is not defined",
     "output_type": "error",
     "traceback": [
      "\u001b[0;31m---------------------------------------------------------------------------\u001b[0m",
      "\u001b[0;31mNameError\u001b[0m                                 Traceback (most recent call last)",
      "\u001b[0;32m<ipython-input-29-1803e18128e6>\u001b[0m in \u001b[0;36m<module>\u001b[0;34m()\u001b[0m\n\u001b[0;32m----> 1\u001b[0;31m \u001b[0;32mclass\u001b[0m \u001b[0mCrossEntropyLoss2d\u001b[0m\u001b[0;34m(\u001b[0m\u001b[0mnn\u001b[0m\u001b[0;34m.\u001b[0m\u001b[0mModule\u001b[0m\u001b[0;34m)\u001b[0m\u001b[0;34m:\u001b[0m\u001b[0;34m\u001b[0m\u001b[0m\n\u001b[0m\u001b[1;32m      2\u001b[0m     \u001b[0;32mdef\u001b[0m \u001b[0m__init__\u001b[0m\u001b[0;34m(\u001b[0m\u001b[0mself\u001b[0m\u001b[0;34m,\u001b[0m \u001b[0mweight\u001b[0m\u001b[0;34m=\u001b[0m\u001b[0;32mNone\u001b[0m\u001b[0;34m,\u001b[0m \u001b[0msize_average\u001b[0m\u001b[0;34m=\u001b[0m\u001b[0;32mTrue\u001b[0m\u001b[0;34m,\u001b[0m \u001b[0mignore_index\u001b[0m\u001b[0;34m=\u001b[0m\u001b[0;36m255\u001b[0m\u001b[0;34m)\u001b[0m\u001b[0;34m:\u001b[0m\u001b[0;34m\u001b[0m\u001b[0m\n\u001b[1;32m      3\u001b[0m         \u001b[0msuper\u001b[0m\u001b[0;34m(\u001b[0m\u001b[0mCrossEntropyLoss2d\u001b[0m\u001b[0;34m,\u001b[0m \u001b[0mself\u001b[0m\u001b[0;34m)\u001b[0m\u001b[0;34m.\u001b[0m\u001b[0m__init__\u001b[0m\u001b[0;34m(\u001b[0m\u001b[0;34m)\u001b[0m\u001b[0;34m\u001b[0m\u001b[0m\n\u001b[1;32m      4\u001b[0m         \u001b[0mself\u001b[0m\u001b[0;34m.\u001b[0m\u001b[0mnll_loss\u001b[0m \u001b[0;34m=\u001b[0m \u001b[0mnn\u001b[0m\u001b[0;34m.\u001b[0m\u001b[0mNLLLoss2d\u001b[0m\u001b[0;34m(\u001b[0m\u001b[0mweight\u001b[0m\u001b[0;34m,\u001b[0m \u001b[0msize_average\u001b[0m\u001b[0;34m,\u001b[0m \u001b[0mignore_index\u001b[0m\u001b[0;34m)\u001b[0m\u001b[0;34m\u001b[0m\u001b[0m\n\u001b[1;32m      5\u001b[0m \u001b[0;34m\u001b[0m\u001b[0m\n",
      "\u001b[0;31mNameError\u001b[0m: name 'nn' is not defined"
     ]
    }
   ],
   "source": [
    "class CrossEntropyLoss2d(nn.Module):\n",
    "    def __init__(self, weight=None, size_average=True, ignore_index=255):\n",
    "        super(CrossEntropyLoss2d, self).__init__()\n",
    "        self.nll_loss = nn.NLLLoss2d(weight, size_average, ignore_index)\n",
    "\n",
    "    def forward(self, inputs, targets):\n",
    "        return self.nll_loss(F.log_softmax(inputs), targets)"
   ]
  },
  {
   "cell_type": "code",
   "execution_count": 34,
   "metadata": {},
   "outputs": [],
   "source": [
    "import torch\n",
    "from torch import nn\n",
    "from torch.nn import functional as F"
   ]
  },
  {
   "cell_type": "code",
   "execution_count": 44,
   "metadata": {},
   "outputs": [
    {
     "name": "stderr",
     "output_type": "stream",
     "text": [
      "/home/kaito/.local/lib/python3.5/site-packages/ipykernel_launcher.py:1: UserWarning: Implicit dimension choice for softmax has been deprecated. Change the call to include dim=X as an argument.\n",
      "  \"\"\"Entry point for launching an IPython kernel.\n"
     ]
    }
   ],
   "source": [
    "a = F.softmax(torch.randn(3, 5, 28, 28))"
   ]
  },
  {
   "cell_type": "code",
   "execution_count": 45,
   "metadata": {},
   "outputs": [
    {
     "data": {
      "text/plain": [
       "tensor([[[1.0000, 1.0000, 1.0000,  ..., 1.0000, 1.0000, 1.0000],\n",
       "         [1.0000, 1.0000, 1.0000,  ..., 1.0000, 1.0000, 1.0000],\n",
       "         [1.0000, 1.0000, 1.0000,  ..., 1.0000, 1.0000, 1.0000],\n",
       "         ...,\n",
       "         [1.0000, 1.0000, 1.0000,  ..., 1.0000, 1.0000, 1.0000],\n",
       "         [1.0000, 1.0000, 1.0000,  ..., 1.0000, 1.0000, 1.0000],\n",
       "         [1.0000, 1.0000, 1.0000,  ..., 1.0000, 1.0000, 1.0000]],\n",
       "\n",
       "        [[1.0000, 1.0000, 1.0000,  ..., 1.0000, 1.0000, 1.0000],\n",
       "         [1.0000, 1.0000, 1.0000,  ..., 1.0000, 1.0000, 1.0000],\n",
       "         [1.0000, 1.0000, 1.0000,  ..., 1.0000, 1.0000, 1.0000],\n",
       "         ...,\n",
       "         [1.0000, 1.0000, 1.0000,  ..., 1.0000, 1.0000, 1.0000],\n",
       "         [1.0000, 1.0000, 1.0000,  ..., 1.0000, 1.0000, 1.0000],\n",
       "         [1.0000, 1.0000, 1.0000,  ..., 1.0000, 1.0000, 1.0000]],\n",
       "\n",
       "        [[1.0000, 1.0000, 1.0000,  ..., 1.0000, 1.0000, 1.0000],\n",
       "         [1.0000, 1.0000, 1.0000,  ..., 1.0000, 1.0000, 1.0000],\n",
       "         [1.0000, 1.0000, 1.0000,  ..., 1.0000, 1.0000, 1.0000],\n",
       "         ...,\n",
       "         [1.0000, 1.0000, 1.0000,  ..., 1.0000, 1.0000, 1.0000],\n",
       "         [1.0000, 1.0000, 1.0000,  ..., 1.0000, 1.0000, 1.0000],\n",
       "         [1.0000, 1.0000, 1.0000,  ..., 1.0000, 1.0000, 1.0000]]])"
      ]
     },
     "execution_count": 45,
     "metadata": {},
     "output_type": "execute_result"
    }
   ],
   "source": [
    "torch.sum(a, dim=1)"
   ]
  },
  {
   "cell_type": "code",
   "execution_count": null,
   "metadata": {},
   "outputs": [],
   "source": []
  },
  {
   "cell_type": "code",
   "execution_count": null,
   "metadata": {},
   "outputs": [],
   "source": []
  }
 ],
 "metadata": {
  "kernelspec": {
   "display_name": "Python 3",
   "language": "python",
   "name": "python3"
  },
  "language_info": {
   "codemirror_mode": {
    "name": "ipython",
    "version": 3
   },
   "file_extension": ".py",
   "mimetype": "text/x-python",
   "name": "python",
   "nbconvert_exporter": "python",
   "pygments_lexer": "ipython3",
   "version": "3.5.2"
  }
 },
 "nbformat": 4,
 "nbformat_minor": 2
}
