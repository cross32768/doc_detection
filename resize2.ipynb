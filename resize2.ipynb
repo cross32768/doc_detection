{
 "cells": [
  {
   "cell_type": "code",
   "execution_count": 3,
   "metadata": {},
   "outputs": [],
   "source": [
    "import os\n",
    "from PIL import Image"
   ]
  },
  {
   "cell_type": "code",
   "execution_count": 4,
   "metadata": {},
   "outputs": [],
   "source": [
    "root_dir = '../../data/komonjo_experiment/200003076/'\n",
    "image_dir = root_dir + 'training_data/one_hot_x0.8/'\n",
    "output_dir = root_dir + 'training_data/one_hot_x0.8_resized_quarter/'\n",
    "\n",
    "if not os.path.exists(output_dir):\n",
    "    os.mkdir(output_dir)\n",
    "\n",
    "image_name_list = os.listdir(image_dir)   \n",
    "for image_name in image_name_list:\n",
    "    img = Image.open(image_dir + image_name)\n",
    "    width, height = img.size\n",
    "    resized_width = int(width / 4)\n",
    "    resized_height = int(height / 4)\n",
    "    img_resized = img.resize((resized_width, resized_height), Image.LANCZOS)\n",
    "    img_resized.save(output_dir + image_name)"
   ]
  },
  {
   "cell_type": "code",
   "execution_count": null,
   "metadata": {},
   "outputs": [],
   "source": []
  }
 ],
 "metadata": {
  "kernelspec": {
   "display_name": "Python 3",
   "language": "python",
   "name": "python3"
  },
  "language_info": {
   "codemirror_mode": {
    "name": "ipython",
    "version": 3
   },
   "file_extension": ".py",
   "mimetype": "text/x-python",
   "name": "python",
   "nbconvert_exporter": "python",
   "pygments_lexer": "ipython3",
   "version": "3.5.2"
  }
 },
 "nbformat": 4,
 "nbformat_minor": 2
}
